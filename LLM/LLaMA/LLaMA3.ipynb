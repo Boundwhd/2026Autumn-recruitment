{
 "cells": [
  {
   "cell_type": "code",
   "execution_count": 2,
   "metadata": {},
   "outputs": [
    {
     "name": "stderr",
     "output_type": "stream",
     "text": [
      "c:\\Users\\bound\\anaconda3\\envs\\LLM\\Lib\\site-packages\\tqdm\\auto.py:21: TqdmWarning: IProgress not found. Please update jupyter and ipywidgets. See https://ipywidgets.readthedocs.io/en/stable/user_install.html\n",
      "  from .autonotebook import tqdm as notebook_tqdm\n"
     ]
    }
   ],
   "source": [
    "import torch\n",
    "from transformers import LlamaForCausalLM, AutoTokenizer"
   ]
  },
  {
   "cell_type": "code",
   "execution_count": 3,
   "metadata": {},
   "outputs": [],
   "source": [
    "'''\n",
    "Llama-3.2-1B Model Structure\n",
    "'''\n",
    "\n",
    "model_name = \"meta-llama/Llama-3.2-1B\"\n",
    "\n",
    "model_hf = LlamaForCausalLM.from_pretrained(model_name)\n",
    "tokenizer = AutoTokenizer.from_pretrained(model_name)"
   ]
  },
  {
   "cell_type": "code",
   "execution_count": 5,
   "metadata": {},
   "outputs": [
    {
     "name": "stdout",
     "output_type": "stream",
     "text": [
      "Random Input Tensor:\n",
      "tensor([[61542, 70067, 86876,  6414]])\n"
     ]
    }
   ],
   "source": [
    "torch.manual_seed(42)\n",
    "\n",
    "# 随机生成输入数据\n",
    "batch_size = 1\n",
    "sequence_length = 4  # 你可以根据需要调整这个长度\n",
    "\n",
    "# 生成随机的token ID\n",
    "random_input = torch.randint(0, tokenizer.vocab_size, (batch_size, sequence_length))\n",
    "\n",
    "# 打印随机生成的输入\n",
    "print(\"Random Input Tensor:\")\n",
    "print(random_input)"
   ]
  },
  {
   "cell_type": "code",
   "execution_count": 4,
   "metadata": {},
   "outputs": [
    {
     "name": "stdout",
     "output_type": "stream",
     "text": [
      "torch.Size([1, 2, 3])\n",
      "torch.Size([1, 2, 1])\n",
      "tensor([[[0.9258, 1.8516, 2.7775],\n",
      "         [0.9258, 1.8516, 2.7775]]])\n"
     ]
    }
   ],
   "source": [
    "'''\n",
    "RMSNorm\n",
    "input: (batch, sequence_length, embedding_size)\n",
    "algorithm:\n",
    "    fomula: RMS(x) = sqrt(mean(x_i^2) + epsilon)\n",
    "    output: norm_x = (x / RMS(x)) * gamma\n",
    "'''\n",
    "gamma = torch.tensor([2, 2, 2])\n",
    "eps = 1e-6\n",
    "x = torch.tensor([[[1, 2, 3], [1, 2, 3]]], dtype=torch.float32)\n",
    "print(x.shape)\n",
    "RMS = torch.sqrt(torch.mean(x**2, dim=-1, keepdim=True) + eps)\n",
    "print(RMS.shape)\n",
    "out = x / RMS * gamma\n",
    "print(out)"
   ]
  },
  {
   "cell_type": "code",
   "execution_count": null,
   "metadata": {},
   "outputs": [],
   "source": [
    "'''\n",
    "Rope position embedding\n",
    "'''\n",
    "hidden_state = torch.tensor([[[1, 2, 3], [4, 5, 6]],[[1, 2, 3], [4, 5, 6]]], dtype=torch.float32)\n",
    "b, t, c = hidden_state.shape\n",
    "\n"
   ]
  },
  {
   "cell_type": "code",
   "execution_count": null,
   "metadata": {},
   "outputs": [],
   "source": []
  }
 ],
 "metadata": {
  "kernelspec": {
   "display_name": "LLM",
   "language": "python",
   "name": "python3"
  },
  "language_info": {
   "codemirror_mode": {
    "name": "ipython",
    "version": 3
   },
   "file_extension": ".py",
   "mimetype": "text/x-python",
   "name": "python",
   "nbconvert_exporter": "python",
   "pygments_lexer": "ipython3",
   "version": "3.11.11"
  }
 },
 "nbformat": 4,
 "nbformat_minor": 2
}
