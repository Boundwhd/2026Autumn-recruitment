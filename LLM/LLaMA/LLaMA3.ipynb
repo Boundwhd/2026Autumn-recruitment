{
 "cells": [
  {
   "cell_type": "code",
   "execution_count": 1,
   "metadata": {},
   "outputs": [
    {
     "name": "stderr",
     "output_type": "stream",
     "text": [
      "c:\\Users\\bound\\anaconda3\\envs\\LLM\\Lib\\site-packages\\tqdm\\auto.py:21: TqdmWarning: IProgress not found. Please update jupyter and ipywidgets. See https://ipywidgets.readthedocs.io/en/stable/user_install.html\n",
      "  from .autonotebook import tqdm as notebook_tqdm\n"
     ]
    }
   ],
   "source": [
    "import torch\n",
    "import torch.nn as nn\n",
    "from transformers import LlamaForCausalLM, AutoTokenizer\n",
    "from transformers import LlamaConfig"
   ]
  },
  {
   "cell_type": "code",
   "execution_count": 101,
   "metadata": {},
   "outputs": [
    {
     "name": "stdout",
     "output_type": "stream",
     "text": [
      "LlamaForCausalLM(\n",
      "  (model): LlamaModel(\n",
      "    (embed_tokens): Embedding(128256, 2048)\n",
      "    (layers): ModuleList(\n",
      "      (0-15): 16 x LlamaDecoderLayer(\n",
      "        (self_attn): LlamaAttention(\n",
      "          (q_proj): Linear(in_features=2048, out_features=2048, bias=False)\n",
      "          (k_proj): Linear(in_features=2048, out_features=512, bias=False)\n",
      "          (v_proj): Linear(in_features=2048, out_features=512, bias=False)\n",
      "          (o_proj): Linear(in_features=2048, out_features=2048, bias=False)\n",
      "        )\n",
      "        (mlp): LlamaMLP(\n",
      "          (gate_proj): Linear(in_features=2048, out_features=8192, bias=False)\n",
      "          (up_proj): Linear(in_features=2048, out_features=8192, bias=False)\n",
      "          (down_proj): Linear(in_features=8192, out_features=2048, bias=False)\n",
      "          (act_fn): SiLU()\n",
      "        )\n",
      "        (input_layernorm): LlamaRMSNorm((2048,), eps=1e-05)\n",
      "        (post_attention_layernorm): LlamaRMSNorm((2048,), eps=1e-05)\n",
      "      )\n",
      "    )\n",
      "    (norm): LlamaRMSNorm((2048,), eps=1e-05)\n",
      "    (rotary_emb): LlamaRotaryEmbedding()\n",
      "  )\n",
      "  (lm_head): Linear(in_features=2048, out_features=128256, bias=False)\n",
      ")\n"
     ]
    }
   ],
   "source": [
    "'''\n",
    "Llama-3.2-1B Model Structure\n",
    "'''\n",
    "\n",
    "model_name = \"meta-llama/Llama-3.2-1B\"\n",
    "\n",
    "model_hf = LlamaForCausalLM.from_pretrained(model_name)\n",
    "tokenizer = AutoTokenizer.from_pretrained(model_name)\n",
    "print(model_hf)"
   ]
  },
  {
   "cell_type": "code",
   "execution_count": 5,
   "metadata": {},
   "outputs": [
    {
     "name": "stdout",
     "output_type": "stream",
     "text": [
      "Random Input Tensor:\n",
      "tensor([[61542, 70067, 86876,  6414]])\n"
     ]
    }
   ],
   "source": [
    "torch.manual_seed(42)\n",
    "\n",
    "batch_size = 1\n",
    "sequence_length = 4  \n",
    "\n",
    "random_input = torch.randint(0, tokenizer.vocab_size, (batch_size, sequence_length))\n",
    "\n",
    "print(\"Random Input Tensor:\")\n",
    "print(random_input)"
   ]
  },
  {
   "cell_type": "code",
   "execution_count": 4,
   "metadata": {},
   "outputs": [
    {
     "name": "stdout",
     "output_type": "stream",
     "text": [
      "torch.Size([1, 2, 3])\n",
      "torch.Size([1, 2, 1])\n",
      "tensor([[[0.9258, 1.8516, 2.7775],\n",
      "         [0.9258, 1.8516, 2.7775]]])\n"
     ]
    }
   ],
   "source": [
    "'''\n",
    "RMSNorm\n",
    "input: (batch, sequence_length, embedding_size)\n",
    "algorithm:\n",
    "    fomula: RMS(x) = sqrt(mean(x_i^2) + epsilon)\n",
    "    output: norm_x = (x / RMS(x)) * gamma\n",
    "'''\n",
    "gamma = torch.tensor([2, 2, 2])\n",
    "eps = 1e-6\n",
    "x = torch.tensor([[[1, 2, 3], [1, 2, 3]]], dtype=torch.float32)\n",
    "print(x.shape)\n",
    "RMS = torch.sqrt(torch.mean(x**2, dim=-1, keepdim=True) + eps)\n",
    "print(RMS.shape)\n",
    "out = x / RMS * gamma\n",
    "print(out)"
   ]
  },
  {
   "cell_type": "code",
   "execution_count": 78,
   "metadata": {},
   "outputs": [],
   "source": [
    "'''\n",
    "Rope position embedding\n",
    "'''\n",
    "hidden_state = torch.tensor([[[1, 2, 3, 4], [4, 5, 6, 7], [7, 8, 9, 10]]], dtype=torch.float32)\n",
    "b, t, c = hidden_state.shape\n",
    "position = torch.arange(0, t, dtype=torch.float32).unsqueeze(-1)\n",
    "ids = torch.arange(0, c // 2, dtype=torch.float)\n",
    "theta = torch.pow(10000, -2 * ids / c)\n",
    "\n",
    "embeddings = position * theta\n",
    "sin_embeddings = torch.sin(embeddings)\n",
    "cos_embeddings = torch.cos(embeddings)\n",
    "\n",
    "sin_embeddings = sin_embeddings.repeat(1, 2)\n",
    "cos_embeddings = cos_embeddings.repeat(1, 2)"
   ]
  },
  {
   "cell_type": "code",
   "execution_count": 86,
   "metadata": {},
   "outputs": [],
   "source": [
    "def half_rotate(x):\n",
    "    x1 = x[..., : x.shape[-1] // 2]\n",
    "    x2 = x[..., x.shape[-1] // 2 :]\n",
    "    return torch.cat((-x2, x1), dim=-1)"
   ]
  },
  {
   "cell_type": "code",
   "execution_count": 13,
   "metadata": {},
   "outputs": [],
   "source": [
    "'''\n",
    "ATTENTION\n",
    "'''\n",
    "q_proj = nn.Linear(2048, 2048)\n",
    "\n",
    "hidden_state = torch.rand(1, 4, 2048)\n",
    "input_shape = hidden_state.shape[:-1]\n",
    "hidden_shape = (*input_shape, -1, 256)\n",
    "query_state = q_proj(hidden_state).view(hidden_shape)\n",
    "\n"
   ]
  },
  {
   "cell_type": "code",
   "execution_count": 48,
   "metadata": {},
   "outputs": [],
   "source": [
    "cos = torch.tensor([1, 2, 3]).unsqueeze(0)\n",
    "x = torch.tensor([[0, 0, 0],[2, 2, 2]])"
   ]
  },
  {
   "cell_type": "code",
   "execution_count": 55,
   "metadata": {},
   "outputs": [],
   "source": [
    "x = torch.tensor([[[0, 0],[1, 1]],[[3, 3],[4, 4]]])"
   ]
  },
  {
   "cell_type": "code",
   "execution_count": 57,
   "metadata": {},
   "outputs": [],
   "source": [
    "inputs = torch.randint(0, 500, (2, 32))"
   ]
  },
  {
   "cell_type": "code",
   "execution_count": 60,
   "metadata": {},
   "outputs": [
    {
     "data": {
      "text/plain": [
       "torch.Size([2, 32])"
      ]
     },
     "execution_count": 60,
     "metadata": {},
     "output_type": "execute_result"
    }
   ],
   "source": [
    "inputs.shape"
   ]
  },
  {
   "cell_type": "code",
   "execution_count": 1,
   "metadata": {},
   "outputs": [],
   "source": [
    "import torch"
   ]
  },
  {
   "cell_type": "code",
   "execution_count": 15,
   "metadata": {},
   "outputs": [
    {
     "name": "stdout",
     "output_type": "stream",
     "text": [
      "tensor([[1, 2],\n",
      "        [3, 4]])\n",
      "tensor([[1, 2, 1, 2],\n",
      "        [3, 4, 3, 4]])\n"
     ]
    }
   ],
   "source": [
    "x = torch.tensor([[1, 2],[3, 4]])\n",
    "print(x)\n",
    "x = x[:, None, :].expand(2, 2, 2)\n",
    "x = x.reshape(2, 2 * 2)\n",
    "print(x)"
   ]
  },
  {
   "cell_type": "code",
   "execution_count": null,
   "metadata": {},
   "outputs": [],
   "source": []
  }
 ],
 "metadata": {
  "kernelspec": {
   "display_name": "LLM",
   "language": "python",
   "name": "python3"
  },
  "language_info": {
   "codemirror_mode": {
    "name": "ipython",
    "version": 3
   },
   "file_extension": ".py",
   "mimetype": "text/x-python",
   "name": "python",
   "nbconvert_exporter": "python",
   "pygments_lexer": "ipython3",
   "version": "3.11.11"
  }
 },
 "nbformat": 4,
 "nbformat_minor": 2
}
